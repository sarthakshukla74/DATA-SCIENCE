{
  "nbformat": 4,
  "nbformat_minor": 0,
  "metadata": {
    "colab": {
      "provenance": [],
      "authorship_tag": "ABX9TyPU7wYKiP+Uv4Odwd/WrEfy",
      "include_colab_link": true
    },
    "kernelspec": {
      "name": "python3",
      "display_name": "Python 3"
    },
    "language_info": {
      "name": "python"
    }
  },
  "cells": [
    {
      "cell_type": "markdown",
      "metadata": {
        "id": "view-in-github",
        "colab_type": "text"
      },
      "source": [
        "<a href=\"https://colab.research.google.com/github/sarthakshukla74/DATA-SCIENCE/blob/main/NUMPY.ipynb\" target=\"_parent\"><img src=\"https://colab.research.google.com/assets/colab-badge.svg\" alt=\"Open In Colab\"/></a>"
      ]
    },
    {
      "cell_type": "markdown",
      "source": [
        "**ARRAY CREATION**"
      ],
      "metadata": {
        "id": "B4BSDg8aEWGt"
      }
    },
    {
      "cell_type": "code",
      "execution_count": null,
      "metadata": {
        "colab": {
          "base_uri": "https://localhost:8080/"
        },
        "id": "9_OmwJtuBvxB",
        "outputId": "424c5065-1cad-46b5-c754-404ce8056ab6"
      },
      "outputs": [
        {
          "output_type": "stream",
          "name": "stdout",
          "text": [
            "[1 2 3]\n",
            "<class 'numpy.ndarray'>\n"
          ]
        },
        {
          "output_type": "execute_result",
          "data": {
            "text/plain": [
              "2"
            ]
          },
          "metadata": {},
          "execution_count": 8
        }
      ],
      "source": [
        "import numpy as np\n",
        "a=np.array([1,2,3])\n",
        "print(a)\n",
        "print(type(a))\n",
        "a.ndim\n"
      ]
    },
    {
      "cell_type": "markdown",
      "source": [
        "**ND ARRAY**"
      ],
      "metadata": {
        "id": "UygIg7ZkF_i3"
      }
    },
    {
      "cell_type": "code",
      "source": [
        "a1=np.array([[1,2,3],[4,5,6]],dtype=np.int8)\n",
        "a1\n",
        "a1.ndim\n",
        "a1.dtype"
      ],
      "metadata": {
        "colab": {
          "base_uri": "https://localhost:8080/"
        },
        "id": "9yOkK9LEF-jC",
        "outputId": "985c783c-891b-484b-ece5-cfcf9939fd08"
      },
      "execution_count": null,
      "outputs": [
        {
          "output_type": "execute_result",
          "data": {
            "text/plain": [
              "dtype('int8')"
            ]
          },
          "metadata": {},
          "execution_count": 15
        }
      ]
    },
    {
      "cell_type": "markdown",
      "source": [
        "**ARRAY CREATION USING arange FUNCTION**"
      ],
      "metadata": {
        "id": "aPJYa8wxHBWo"
      }
    },
    {
      "cell_type": "code",
      "source": [
        "b=np.arange(0,12)\n",
        "b"
      ],
      "metadata": {
        "colab": {
          "base_uri": "https://localhost:8080/"
        },
        "id": "ajsaEPwFHWwg",
        "outputId": "04cfa448-0f00-4a1a-fffd-1c1d06b7578e"
      },
      "execution_count": null,
      "outputs": [
        {
          "output_type": "execute_result",
          "data": {
            "text/plain": [
              "array([ 0,  1,  2,  3,  4,  5,  6,  7,  8,  9, 10, 11])"
            ]
          },
          "metadata": {},
          "execution_count": 17
        }
      ]
    },
    {
      "cell_type": "markdown",
      "source": [
        "**2D ARRAY CREATION USING arange FUNCTION(Dimensions product should be multiple of size)**"
      ],
      "metadata": {
        "id": "d4HMt5s0HsTx"
      }
    },
    {
      "cell_type": "code",
      "source": [
        "c=np.arange(16).reshape((2,2,4))\n",
        "c"
      ],
      "metadata": {
        "colab": {
          "base_uri": "https://localhost:8080/"
        },
        "id": "di0FRQOTHxX2",
        "outputId": "e1a65f59-fa57-4c43-c153-e461245031b5"
      },
      "execution_count": null,
      "outputs": [
        {
          "output_type": "execute_result",
          "data": {
            "text/plain": [
              "array([[[ 0,  1,  2,  3],\n",
              "        [ 4,  5,  6,  7]],\n",
              "\n",
              "       [[ 8,  9, 10, 11],\n",
              "        [12, 13, 14, 15]]])"
            ]
          },
          "metadata": {},
          "execution_count": 22
        }
      ]
    },
    {
      "cell_type": "markdown",
      "source": [
        "**ZERO ARRAY**"
      ],
      "metadata": {
        "id": "43xUOJV6I2mX"
      }
    },
    {
      "cell_type": "code",
      "source": [
        "a=np.zeros((4,5),dtype=int)\n",
        "type(a[0][0])"
      ],
      "metadata": {
        "colab": {
          "base_uri": "https://localhost:8080/"
        },
        "id": "n9H_F27hI5IZ",
        "outputId": "f21355bf-83e9-4119-8653-8f41546e36c4"
      },
      "execution_count": null,
      "outputs": [
        {
          "output_type": "execute_result",
          "data": {
            "text/plain": [
              "numpy.int64"
            ]
          },
          "metadata": {},
          "execution_count": 28
        }
      ]
    },
    {
      "cell_type": "markdown",
      "source": [
        "**IDENTITY ARRAY**"
      ],
      "metadata": {
        "id": "Fdt9RSf6JVMa"
      }
    },
    {
      "cell_type": "code",
      "source": [
        "np.identity(4)"
      ],
      "metadata": {
        "colab": {
          "base_uri": "https://localhost:8080/"
        },
        "id": "tKPQFFMHJYFT",
        "outputId": "a24ec8f2-2afe-471a-bef1-fef311103aaf"
      },
      "execution_count": null,
      "outputs": [
        {
          "output_type": "execute_result",
          "data": {
            "text/plain": [
              "array([[1., 0., 0., 0.],\n",
              "       [0., 1., 0., 0.],\n",
              "       [0., 0., 1., 0.],\n",
              "       [0., 0., 0., 1.]])"
            ]
          },
          "metadata": {},
          "execution_count": 29
        }
      ]
    },
    {
      "cell_type": "markdown",
      "source": [
        "**ONE ARRAY**"
      ],
      "metadata": {
        "id": "Ji_imfynJgSx"
      }
    },
    {
      "cell_type": "code",
      "source": [
        "np.ones((2,2))"
      ],
      "metadata": {
        "colab": {
          "base_uri": "https://localhost:8080/"
        },
        "id": "1LTJQkZXJif9",
        "outputId": "e59a7b3a-024e-4538-e6c3-137417fd45b1"
      },
      "execution_count": null,
      "outputs": [
        {
          "output_type": "execute_result",
          "data": {
            "text/plain": [
              "array([[1., 1.],\n",
              "       [1., 1.]])"
            ]
          },
          "metadata": {},
          "execution_count": 32
        }
      ]
    },
    {
      "cell_type": "markdown",
      "source": [
        "**ATTRIBUTES OF NUMPY**"
      ],
      "metadata": {
        "id": "uH1gr7sCJvE9"
      }
    },
    {
      "cell_type": "code",
      "source": [
        "a1.size"
      ],
      "metadata": {
        "colab": {
          "base_uri": "https://localhost:8080/"
        },
        "id": "l_G44iptJyyD",
        "outputId": "6a250cbe-0ccb-4aac-af98-4ae8cb7c3656"
      },
      "execution_count": null,
      "outputs": [
        {
          "output_type": "execute_result",
          "data": {
            "text/plain": [
              "6"
            ]
          },
          "metadata": {},
          "execution_count": 33
        }
      ]
    },
    {
      "cell_type": "code",
      "source": [
        "a1.shape"
      ],
      "metadata": {
        "colab": {
          "base_uri": "https://localhost:8080/"
        },
        "id": "Jykx7BrwJ5Ft",
        "outputId": "c0da54e8-7332-49a2-88e3-fb764ce3a454"
      },
      "execution_count": null,
      "outputs": [
        {
          "output_type": "execute_result",
          "data": {
            "text/plain": [
              "(2, 3)"
            ]
          },
          "metadata": {},
          "execution_count": 34
        }
      ]
    },
    {
      "cell_type": "code",
      "source": [
        "a1.ndim"
      ],
      "metadata": {
        "colab": {
          "base_uri": "https://localhost:8080/"
        },
        "id": "2hECzYCoJ_Qw",
        "outputId": "148a1fa9-b69c-4151-9bd6-24926d2f3e5a"
      },
      "execution_count": null,
      "outputs": [
        {
          "output_type": "execute_result",
          "data": {
            "text/plain": [
              "2"
            ]
          },
          "metadata": {},
          "execution_count": 35
        }
      ]
    },
    {
      "cell_type": "code",
      "source": [
        "a.itemsize"
      ],
      "metadata": {
        "colab": {
          "base_uri": "https://localhost:8080/"
        },
        "id": "e_FUp1I2KJVT",
        "outputId": "ddf95390-9157-4584-a7d2-5c430534a677"
      },
      "execution_count": null,
      "outputs": [
        {
          "output_type": "execute_result",
          "data": {
            "text/plain": [
              "8"
            ]
          },
          "metadata": {},
          "execution_count": 36
        }
      ]
    },
    {
      "cell_type": "markdown",
      "source": [
        "**NUMPY OPERATIONS**"
      ],
      "metadata": {
        "id": "XUQKPmKPKYhj"
      }
    },
    {
      "cell_type": "markdown",
      "source": [
        "*SCALAR OPERATIONS*"
      ],
      "metadata": {
        "id": "F7HXv002Knlt"
      }
    },
    {
      "cell_type": "code",
      "source": [
        "p=np.arange(12).reshape(3,4)\n",
        "q=np.arange(12,24).reshape(3,4)\n",
        "q*2"
      ],
      "metadata": {
        "colab": {
          "base_uri": "https://localhost:8080/"
        },
        "id": "9-yDAz6qKcSa",
        "outputId": "f815117e-6709-4c7d-e205-c43306ac1e84"
      },
      "execution_count": null,
      "outputs": [
        {
          "output_type": "execute_result",
          "data": {
            "text/plain": [
              "array([[24, 26, 28, 30],\n",
              "       [32, 34, 36, 38],\n",
              "       [40, 42, 44, 46]])"
            ]
          },
          "metadata": {},
          "execution_count": 37
        }
      ]
    },
    {
      "cell_type": "code",
      "source": [
        "q+2"
      ],
      "metadata": {
        "colab": {
          "base_uri": "https://localhost:8080/"
        },
        "id": "Xszu8g3fLWjC",
        "outputId": "5437b7c4-043f-4063-8481-0fad4aaea3bb"
      },
      "execution_count": null,
      "outputs": [
        {
          "output_type": "execute_result",
          "data": {
            "text/plain": [
              "array([[14, 15, 16, 17],\n",
              "       [18, 19, 20, 21],\n",
              "       [22, 23, 24, 25]])"
            ]
          },
          "metadata": {},
          "execution_count": 38
        }
      ]
    },
    {
      "cell_type": "code",
      "source": [
        "q**2"
      ],
      "metadata": {
        "colab": {
          "base_uri": "https://localhost:8080/"
        },
        "id": "NMoGIn5ULYdE",
        "outputId": "b437dbf2-8d54-4597-a105-4811644abbb7"
      },
      "execution_count": null,
      "outputs": [
        {
          "output_type": "execute_result",
          "data": {
            "text/plain": [
              "array([[144, 169, 196, 225],\n",
              "       [256, 289, 324, 361],\n",
              "       [400, 441, 484, 529]])"
            ]
          },
          "metadata": {},
          "execution_count": 39
        }
      ]
    },
    {
      "cell_type": "code",
      "source": [
        "q-84"
      ],
      "metadata": {
        "colab": {
          "base_uri": "https://localhost:8080/"
        },
        "id": "vB9F11uDLZpf",
        "outputId": "2fa05054-5286-4c01-db8e-998fcfeb8082"
      },
      "execution_count": null,
      "outputs": [
        {
          "output_type": "execute_result",
          "data": {
            "text/plain": [
              "array([[-72, -71, -70, -69],\n",
              "       [-68, -67, -66, -65],\n",
              "       [-64, -63, -62, -61]])"
            ]
          },
          "metadata": {},
          "execution_count": 40
        }
      ]
    },
    {
      "cell_type": "markdown",
      "source": [
        "*RELATIONAL OPERATIONS*"
      ],
      "metadata": {
        "id": "8KFaye2IMzTX"
      }
    },
    {
      "cell_type": "code",
      "source": [
        "q>5"
      ],
      "metadata": {
        "colab": {
          "base_uri": "https://localhost:8080/"
        },
        "id": "XeD6XWKlMRwI",
        "outputId": "c12a6956-c8f3-4c06-9215-a6ff0861ff6a"
      },
      "execution_count": null,
      "outputs": [
        {
          "output_type": "execute_result",
          "data": {
            "text/plain": [
              "array([[ True,  True,  True,  True],\n",
              "       [ True,  True,  True,  True],\n",
              "       [ True,  True,  True,  True]])"
            ]
          },
          "metadata": {},
          "execution_count": 43
        }
      ]
    },
    {
      "cell_type": "markdown",
      "source": [
        "*VECTOR OPERATIONS*"
      ],
      "metadata": {
        "id": "vXZHY3qoM31C"
      }
    },
    {
      "cell_type": "code",
      "source": [
        "p+q"
      ],
      "metadata": {
        "colab": {
          "base_uri": "https://localhost:8080/"
        },
        "id": "nFgFUeuXMgwV",
        "outputId": "1e329b23-f7fa-43c6-e018-91b4ac8db4c4"
      },
      "execution_count": null,
      "outputs": [
        {
          "output_type": "execute_result",
          "data": {
            "text/plain": [
              "array([[12, 14, 16, 18],\n",
              "       [20, 22, 24, 26],\n",
              "       [28, 30, 32, 34]])"
            ]
          },
          "metadata": {},
          "execution_count": 44
        }
      ]
    },
    {
      "cell_type": "code",
      "source": [
        "p*q"
      ],
      "metadata": {
        "colab": {
          "base_uri": "https://localhost:8080/"
        },
        "id": "tgrv02syMoPI",
        "outputId": "74602a36-51a7-49fa-8314-51c0c72b10bc"
      },
      "execution_count": null,
      "outputs": [
        {
          "output_type": "execute_result",
          "data": {
            "text/plain": [
              "array([[  0,  13,  28,  45],\n",
              "       [ 64,  85, 108, 133],\n",
              "       [160, 189, 220, 253]])"
            ]
          },
          "metadata": {},
          "execution_count": 45
        }
      ]
    },
    {
      "cell_type": "code",
      "source": [
        "j=np.round(np.random.random((10,10)))\n",
        "j"
      ],
      "metadata": {
        "colab": {
          "base_uri": "https://localhost:8080/"
        },
        "id": "tHuuEyK3NC49",
        "outputId": "9f44a6e0-8f68-4d01-cea9-54abe92aa7b2"
      },
      "execution_count": null,
      "outputs": [
        {
          "output_type": "execute_result",
          "data": {
            "text/plain": [
              "array([[0., 1., 0., 1., 1., 0., 1., 1., 0., 0.],\n",
              "       [0., 1., 1., 1., 0., 0., 0., 0., 1., 1.],\n",
              "       [1., 0., 0., 1., 1., 1., 0., 1., 0., 1.],\n",
              "       [0., 0., 1., 0., 1., 1., 1., 1., 0., 1.],\n",
              "       [0., 1., 0., 1., 1., 1., 1., 1., 1., 1.],\n",
              "       [1., 0., 1., 1., 1., 1., 1., 1., 1., 1.],\n",
              "       [0., 1., 1., 0., 0., 1., 0., 1., 1., 1.],\n",
              "       [0., 0., 1., 0., 1., 0., 1., 0., 0., 0.],\n",
              "       [0., 0., 0., 0., 0., 0., 0., 1., 0., 0.],\n",
              "       [1., 1., 0., 1., 0., 1., 1., 1., 0., 0.]])"
            ]
          },
          "metadata": {},
          "execution_count": 49
        }
      ]
    },
    {
      "cell_type": "code",
      "source": [
        "np.max(p)"
      ],
      "metadata": {
        "colab": {
          "base_uri": "https://localhost:8080/"
        },
        "id": "B2ZvL6biN4JM",
        "outputId": "90754e7d-70ff-4880-f627-56e0416b78be"
      },
      "execution_count": null,
      "outputs": [
        {
          "output_type": "execute_result",
          "data": {
            "text/plain": [
              "np.int64(11)"
            ]
          },
          "metadata": {},
          "execution_count": 52
        }
      ]
    },
    {
      "cell_type": "code",
      "source": [
        "np.log(p)"
      ],
      "metadata": {
        "colab": {
          "base_uri": "https://localhost:8080/"
        },
        "id": "o3WM-i3qOKRE",
        "outputId": "6fe3f79a-12f2-447f-bc6f-1be58bdc6620"
      },
      "execution_count": null,
      "outputs": [
        {
          "output_type": "stream",
          "name": "stderr",
          "text": [
            "/tmp/ipython-input-87274877.py:1: RuntimeWarning: divide by zero encountered in log\n",
            "  np.log(p)\n"
          ]
        },
        {
          "output_type": "execute_result",
          "data": {
            "text/plain": [
              "array([[      -inf, 0.        , 0.69314718, 1.09861229],\n",
              "       [1.38629436, 1.60943791, 1.79175947, 1.94591015],\n",
              "       [2.07944154, 2.19722458, 2.30258509, 2.39789527]])"
            ]
          },
          "metadata": {},
          "execution_count": 53
        }
      ]
    },
    {
      "cell_type": "code",
      "source": [
        "np.exp(p)"
      ],
      "metadata": {
        "colab": {
          "base_uri": "https://localhost:8080/"
        },
        "id": "Zow752jkOPRV",
        "outputId": "94477f3f-131d-4389-aaa6-ec395dfc02e0"
      },
      "execution_count": null,
      "outputs": [
        {
          "output_type": "execute_result",
          "data": {
            "text/plain": [
              "array([[1.00000000e+00, 2.71828183e+00, 7.38905610e+00, 2.00855369e+01],\n",
              "       [5.45981500e+01, 1.48413159e+02, 4.03428793e+02, 1.09663316e+03],\n",
              "       [2.98095799e+03, 8.10308393e+03, 2.20264658e+04, 5.98741417e+04]])"
            ]
          },
          "metadata": {},
          "execution_count": 54
        }
      ]
    },
    {
      "cell_type": "code",
      "source": [
        "np.floor(p)"
      ],
      "metadata": {
        "colab": {
          "base_uri": "https://localhost:8080/"
        },
        "id": "0C2kM_TOORpK",
        "outputId": "aa520a95-c500-4146-defb-6c8c48faba1f"
      },
      "execution_count": null,
      "outputs": [
        {
          "output_type": "execute_result",
          "data": {
            "text/plain": [
              "array([[ 0.,  1.,  2.,  3.],\n",
              "       [ 4.,  5.,  6.,  7.],\n",
              "       [ 8.,  9., 10., 11.]])"
            ]
          },
          "metadata": {},
          "execution_count": 55
        }
      ]
    },
    {
      "cell_type": "code",
      "source": [
        "np.sin(p)"
      ],
      "metadata": {
        "colab": {
          "base_uri": "https://localhost:8080/"
        },
        "id": "2_c5Yr73OeZD",
        "outputId": "4bedb5fe-7d4e-43a5-a0c0-088bfd198424"
      },
      "execution_count": null,
      "outputs": [
        {
          "output_type": "execute_result",
          "data": {
            "text/plain": [
              "array([[ 0.        ,  0.84147098,  0.90929743,  0.14112001],\n",
              "       [-0.7568025 , -0.95892427, -0.2794155 ,  0.6569866 ],\n",
              "       [ 0.98935825,  0.41211849, -0.54402111, -0.99999021]])"
            ]
          },
          "metadata": {},
          "execution_count": 57
        }
      ]
    },
    {
      "cell_type": "markdown",
      "source": [
        "**INDEXING AND SLICING**"
      ],
      "metadata": {
        "id": "ruWUojv6OxjQ"
      }
    },
    {
      "cell_type": "code",
      "source": [
        "k=np.arange(12)\n",
        "k\n",
        "k[3:9]"
      ],
      "metadata": {
        "colab": {
          "base_uri": "https://localhost:8080/"
        },
        "id": "cAZypr6uOzvR",
        "outputId": "9c0558ee-6cd3-45d6-874d-3d20913c5992"
      },
      "execution_count": null,
      "outputs": [
        {
          "output_type": "execute_result",
          "data": {
            "text/plain": [
              "array([3, 4, 5, 6, 7, 8])"
            ]
          },
          "metadata": {},
          "execution_count": 61
        }
      ]
    },
    {
      "cell_type": "code",
      "source": [
        "print(q[1,1])\n",
        "print(q)"
      ],
      "metadata": {
        "colab": {
          "base_uri": "https://localhost:8080/"
        },
        "id": "b1MOW5JYPbau",
        "outputId": "df0a91db-0e37-462b-b780-e38201edd629"
      },
      "execution_count": null,
      "outputs": [
        {
          "output_type": "stream",
          "name": "stdout",
          "text": [
            "17\n",
            "[[12 13 14 15]\n",
            " [16 17 18 19]\n",
            " [20 21 22 23]]\n"
          ]
        }
      ]
    },
    {
      "cell_type": "code",
      "source": [
        "q[1:,1:3]"
      ],
      "metadata": {
        "colab": {
          "base_uri": "https://localhost:8080/"
        },
        "id": "VOD6ZKNWPzHt",
        "outputId": "aeaaf464-fd14-4b2e-80b4-284415508cce"
      },
      "execution_count": null,
      "outputs": [
        {
          "output_type": "execute_result",
          "data": {
            "text/plain": [
              "array([[17, 18],\n",
              "       [21, 22]])"
            ]
          },
          "metadata": {},
          "execution_count": 68
        }
      ]
    },
    {
      "cell_type": "code",
      "source": [
        "q[1:,0:3:2]"
      ],
      "metadata": {
        "colab": {
          "base_uri": "https://localhost:8080/"
        },
        "id": "KWmrMn80QMIL",
        "outputId": "3561f315-4f3c-43e5-86c8-66141c1e7d64"
      },
      "execution_count": null,
      "outputs": [
        {
          "output_type": "execute_result",
          "data": {
            "text/plain": [
              "array([[16, 18],\n",
              "       [20, 22]])"
            ]
          },
          "metadata": {},
          "execution_count": 71
        }
      ]
    },
    {
      "cell_type": "code",
      "source": [
        "q[0::2,0::3]"
      ],
      "metadata": {
        "colab": {
          "base_uri": "https://localhost:8080/"
        },
        "id": "EzPCo4WYQdNL",
        "outputId": "c1640ea7-7c25-4f78-b2d1-0ee79cffc57b"
      },
      "execution_count": null,
      "outputs": [
        {
          "output_type": "execute_result",
          "data": {
            "text/plain": [
              "array([[12, 15],\n",
              "       [20, 23]])"
            ]
          },
          "metadata": {},
          "execution_count": 72
        }
      ]
    },
    {
      "cell_type": "code",
      "source": [
        "q[1,2]"
      ],
      "metadata": {
        "colab": {
          "base_uri": "https://localhost:8080/"
        },
        "id": "3Z2F7Ih7Q1py",
        "outputId": "4cfea479-454a-43b2-f622-611b204b4848"
      },
      "execution_count": null,
      "outputs": [
        {
          "output_type": "execute_result",
          "data": {
            "text/plain": [
              "np.int64(18)"
            ]
          },
          "metadata": {},
          "execution_count": 73
        }
      ]
    },
    {
      "cell_type": "code",
      "source": [
        "y=np.arange(24).reshape(6,4)"
      ],
      "metadata": {
        "id": "rnMl4wpCREP1"
      },
      "execution_count": null,
      "outputs": []
    },
    {
      "cell_type": "markdown",
      "source": [
        "**FANCY INDEXING**"
      ],
      "metadata": {
        "id": "cF_cdRhlRqjR"
      }
    },
    {
      "cell_type": "code",
      "source": [
        "y[:, [0, 2, 3]]"
      ],
      "metadata": {
        "colab": {
          "base_uri": "https://localhost:8080/"
        },
        "id": "bt7MhWQvRLHa",
        "outputId": "c3cce14c-7ac0-4ee0-cf0f-efd13e645200"
      },
      "execution_count": null,
      "outputs": [
        {
          "output_type": "execute_result",
          "data": {
            "text/plain": [
              "array([[ 0,  2,  3],\n",
              "       [ 4,  6,  7],\n",
              "       [ 8, 10, 11],\n",
              "       [12, 14, 15],\n",
              "       [16, 18, 19],\n",
              "       [20, 22, 23]])"
            ]
          },
          "metadata": {},
          "execution_count": 82
        }
      ]
    },
    {
      "cell_type": "markdown",
      "source": [
        "**MAX USING AXIS**"
      ],
      "metadata": {
        "id": "r7oASu_GSoOL"
      }
    },
    {
      "cell_type": "code",
      "source": [
        "np.max(y,axis=1)"
      ],
      "metadata": {
        "colab": {
          "base_uri": "https://localhost:8080/"
        },
        "id": "pzk3-LOnSMcr",
        "outputId": "742e2247-8da8-4031-f68c-32018f6cb9c5"
      },
      "execution_count": null,
      "outputs": [
        {
          "output_type": "execute_result",
          "data": {
            "text/plain": [
              "array([ 3,  7, 11, 15, 19, 23])"
            ]
          },
          "metadata": {},
          "execution_count": 86
        }
      ]
    },
    {
      "cell_type": "code",
      "source": [
        "y[y>4]"
      ],
      "metadata": {
        "colab": {
          "base_uri": "https://localhost:8080/"
        },
        "id": "8Ak1u-p0TCO1",
        "outputId": "06f627a7-7aeb-44a3-8833-ee0d2fe75c10"
      },
      "execution_count": null,
      "outputs": [
        {
          "output_type": "execute_result",
          "data": {
            "text/plain": [
              "array([ 5,  6,  7,  8,  9, 10, 11, 12, 13, 14, 15, 16, 17, 18, 19, 20, 21,\n",
              "       22, 23])"
            ]
          },
          "metadata": {},
          "execution_count": 88
        }
      ]
    },
    {
      "cell_type": "code",
      "source": [
        "y[(y%2==0) & (y>4)]"
      ],
      "metadata": {
        "colab": {
          "base_uri": "https://localhost:8080/"
        },
        "id": "v0JQHhCYTdGh",
        "outputId": "4370a95f-6737-4d2c-d0f0-54ae7e1b2b21"
      },
      "execution_count": null,
      "outputs": [
        {
          "output_type": "execute_result",
          "data": {
            "text/plain": [
              "array([ 6,  8, 10, 12, 14, 16, 18, 20, 22])"
            ]
          },
          "metadata": {},
          "execution_count": 93
        }
      ]
    },
    {
      "cell_type": "markdown",
      "source": [
        "**MEAN SQUARED USING NUMPY**"
      ],
      "metadata": {
        "id": "XZtxh6_ULTJP"
      }
    },
    {
      "cell_type": "code",
      "source": [
        "import numpy as np\n",
        "def mean_squared(y_true,y_pred):\n",
        "  return np.mean(np.square(y_true-y_pred))\n",
        "y_true=np.array([1,2,3,4,5])\n",
        "y_pred=np.array([5,6,7,8,8])\n",
        "x=mean_squared(y_true,y_pred)\n",
        "print(x)"
      ],
      "metadata": {
        "colab": {
          "base_uri": "https://localhost:8080/"
        },
        "id": "kyws8eniLbdr",
        "outputId": "ee0d8dd3-d652-4e90-a243-a64f728956d0"
      },
      "execution_count": null,
      "outputs": [
        {
          "output_type": "stream",
          "name": "stdout",
          "text": [
            "14.6\n"
          ]
        }
      ]
    },
    {
      "cell_type": "markdown",
      "source": [
        "**STUDENT AVERAGE**"
      ],
      "metadata": {
        "id": "xl7dTHVlMTJU"
      }
    },
    {
      "cell_type": "code",
      "metadata": {
        "colab": {
          "base_uri": "https://localhost:8080/"
        },
        "id": "4v7K8gX3_Z9H",
        "outputId": "0c4aaeb1-0bb9-4fef-ec77-e99e1a9d2341"
      },
      "source": [
        "maths_scores = np.random.randint(0, 101, size=(10, 3))\n",
        "print(maths_scores)\n",
        "\n",
        "\n",
        "\n",
        "avg_each_column = np.mean(maths_scores, axis=0)\n",
        "print(avg_each_column)"
      ],
      "execution_count": null,
      "outputs": [
        {
          "output_type": "stream",
          "name": "stdout",
          "text": [
            "[[53 30  4]\n",
            " [92 39 65]\n",
            " [56 67 54]\n",
            " [ 3 25 59]\n",
            " [87 82 43]\n",
            " [86 74 23]\n",
            " [90 63 56]\n",
            " [72 15 63]\n",
            " [71 26 69]\n",
            " [13 54 78]]\n",
            "[62.3 47.5 51.4]\n"
          ]
        }
      ]
    }
  ]
}